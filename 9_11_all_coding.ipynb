{
  "nbformat": 4,
  "nbformat_minor": 0,
  "metadata": {
    "colab": {
      "provenance": [],
      "authorship_tag": "ABX9TyMcMfGR88nbeqNNYHO949uD",
      "include_colab_link": true
    },
    "kernelspec": {
      "name": "python3",
      "display_name": "Python 3"
    },
    "language_info": {
      "name": "python"
    }
  },
  "cells": [
    {
      "cell_type": "markdown",
      "metadata": {
        "id": "view-in-github",
        "colab_type": "text"
      },
      "source": [
        "<a href=\"https://colab.research.google.com/github/Leeseuongmin/9-11-all-coding/blob/main/9_11_all_coding.ipynb\" target=\"_parent\"><img src=\"https://colab.research.google.com/assets/colab-badge.svg\" alt=\"Open In Colab\"/></a>"
      ]
    },
    {
      "cell_type": "markdown",
      "source": [
        "0. hello world"
      ],
      "metadata": {
        "id": "Cmd2RzbfytS7"
      }
    },
    {
      "cell_type": "code",
      "execution_count": 9,
      "metadata": {
        "colab": {
          "base_uri": "https://localhost:8080/",
          "height": 54
        },
        "id": "UWV9CdWkqe4E",
        "outputId": "16260b65-8816-4c61-85a6-5be67cf33f9f"
      },
      "outputs": [
        {
          "output_type": "stream",
          "name": "stdout",
          "text": [
            "hello world\n"
          ]
        },
        {
          "output_type": "execute_result",
          "data": {
            "text/plain": [
              "'hello world'"
            ],
            "application/vnd.google.colaboratory.intrinsic+json": {
              "type": "string"
            }
          },
          "metadata": {},
          "execution_count": 9
        }
      ],
      "source": [
        "print(\"hello world\")       # \"hello world\"라는 문자열을 출력하는 코드입니다, print 함수는 괄호 안에 있는 내용을 출력합니다.\n",
        "'hello world'\n",
        "/                          # \"/\"는 파이썬에서 나눗셈 연산자입니다. 하지만 여기서는 단독으로 사용되어 특별한 의미를 가지지 않습니다.\n",
        "\"hello world\"              # \"hello world\"라는 문자열을 표현하는 코드입니다. 그러나 이 자체로는 아무런 동작도 수행하지 않습니다.\n",
        "'hello world'              # 'hello world'라는 문자열을 표현하는 코드입니다. Python에서는 문자열을 표현할 때 쌍따옴표(\")와 홑따옴표(') 모두 사용할 수 있습니다.\n",
        "\n",
        "4+4                        # 두 정수 4와 4를 더하는 코드입니다. '+' 연산자는 두 숫자를 더하는 연산을 수행합니다.\n",
        "8                          # 이 코드 자체로는 아무런 동작도 수행하지 않습니다. 이것은 단순히 숫자 8을 표현하고 있습니다.\n",
        "'hello world'              # 'hello world'라는 문자열을 표현하는 코드입니다.\n"
      ]
    },
    {
      "cell_type": "markdown",
      "source": [
        "각 라인이 독립적으로 실행되며, 각 라인은 서로 영향을 주거나 받지 않습니다. 따라서 각 라인은 독립적인 명령으로 이해해야 합니다.\n"
      ],
      "metadata": {
        "id": "8BZWWHf0stL8"
      }
    },
    {
      "cell_type": "markdown",
      "source": [
        "1. 일한 시간과 시급을 예상하여 출력하는 코드"
      ],
      "metadata": {
        "id": "W7cTYfxsy1Jg"
      }
    },
    {
      "cell_type": "code",
      "source": [
        "hours_worked = int(input(\"일한 시간을 일력하시오.: \"))                                                     # 사용자로부터 일한 시간을 입력 받습니다.\n",
        "pay_late = int(input(\"시급을 이력하시오.(23년 시급 9620):\"))                                               # 사용자로부터 시급을 입력 받습니다.\n",
        "day_worked = int(input(\"일한 날짜를 압력하시오.:\"))                                                        # 사용자로부터 일한 날짜를 입력 받습니다.\n",
        "day_moth = hours_worked * day_worked                                                                       # 월간 총 근무 시간을 계산합니다.\n",
        "monthly_pay = hours_worked * pay_late * day_worked                                                         # 월급을 계산합니다.\n",
        "print(f'일한시간은 {hours_worked}시간 이며, 시급은 {pay_late}원 이고, 월급여는 {monthly_pay}입니다.' )     # 계산된 결과를 출력합니다."
      ],
      "metadata": {
        "colab": {
          "base_uri": "https://localhost:8080/"
        },
        "id": "UXwjDutDy_Bg",
        "outputId": "edf20179-1841-4bb1-def3-616e2680f1e9"
      },
      "execution_count": 11,
      "outputs": [
        {
          "output_type": "stream",
          "name": "stdout",
          "text": [
            "일한 시간을 일력하시오.: 2\n",
            "시급을 이력하시오.(23년 시급 9620):23\n",
            "일한 날짜를 압력하시오.:1\n",
            "일한시간은 2시간 이며, 시급은 23원 이고, 월급여는 46입니다.\n"
          ]
        }
      ]
    },
    {
      "cell_type": "markdown",
      "source": [
        "hours_worked = int(input(\"일한 시간을 입력하시오.: \")) : 사용자에게 일한 시간을 입력하라는 메시지를 보여줍니다. 사용자가 입력한 값을 정수로 변환한 후 hours_worked 변수에 저장합니다.\n",
        "pay_rate = int(input(\"시급을 입력하시오.(23년 시급 9620):\")) : 사용자에게 시급을 입력하라는 메시지를 보여줍니다. 사용자가 입력한 값을 정수로 변환한 후 pay_rate 변수에 저장합니다.\n",
        "day_worked = int(input(\"일한 날짜를 입력하시오.:\")) : 사용자에게 일한 일수를 입력하라는 메시지를 보여줍니다. 사용자가 입력한 값을 정수로 변환한 후 day_worked 변수에 저장합니다.\n",
        "total_hours = hours_worked * day_worked : 월간 총 근무 시간을 계산합니다. 일한 시간(hours_worked)과 일한 일수(day_worked)를 곱하여 total_hours 변수에 저장합니다.\n",
        "monthly_pay = hours_worked * pay_rate * day_worked : 월급을 계산합니다. 일한 시간(hours_worked), 시급(pay_rate), 그리고 일한 일수(day_worked)를 곱하여 monthly_pay 변수에 저장합니다.\n",
        "print(f'일한 시간은 {hours_worked}시간 이며, 시급은 {pay_rate}원 이고, 월급여는 {monthly_pay}원 입니다.') : 계산된 결과를 출력합니다. 이 때 f-string 포매팅을 사용하여 각 변수의 값을 직접 문자열에 삽입합니다."
      ],
      "metadata": {
        "id": "aCP-3id4zwsm"
      }
    },
    {
      "cell_type": "markdown",
      "source": [
        "2. 환전하는 코드를 작성\n",
        "\n",
        " - 변수는 won,usd, exchange\n",
        " - 계산 won * usd"
      ],
      "metadata": {
        "id": "xfzj61eW0DX0"
      }
    },
    {
      "cell_type": "code",
      "source": [
        "from io import UnsupportedOperation\n",
        "usd = int(input(\"환전할 달러을 입력: \"))                                            # 사용자로부터 환전할 달러 금액을 입력 받습니다.\n",
        "won = int(input(\"달러의 환율금액 입력(231031: 1372원)\"))                            # 사용자로부터 달러의 환율을 입력 받습니다.\n",
        "exchange = won * usd                                                                # 환전 금액을 계산합니다.\n",
        "print(f' 환전하고 싶은 {usd}달러는 환율 {won}으로 계산하면,  {exchange}원 입니다.') # 계산된 결과를 출력합니다.\n",
        ""
      ],
      "metadata": {
        "id": "Jq3oZnQL0RAX"
      },
      "execution_count": null,
      "outputs": []
    },
    {
      "cell_type": "markdown",
      "source": [
        "usd = int(input(\"환전할 달러를 입력하세요: \")) : 이 줄은 사용자로부터 환전하고 싶은 달러 금액을 입력 받습니다. input() 함수는 사용자에게 입력을 받는 함수이며, int() 함수는 입력 받은 값을 정수형으로 변환합니다. 이 변환된 값은 usd라는 변수에 저장됩니다.\n",
        "won = int(input(\"달러의 환율을 입력하세요(예: 1달러당 1372원):\")) : 이 줄은 사용자로부터 달러의 환율을 입력 받습니다. 입력 받은 환율 값은 won이라는 변수에 저장됩니다.\n",
        "exchange = won * usd : 이 줄은 환전하고 싶은 달러 금액(usd)과 달러의 환율(won)을 곱하여 환전 금액을 계산합니다. 이 계산된 값은 exchange라는 변수에 저장됩니다.\n",
        "print(f'환전하고 싶은 {usd}달러는 환율 {won}원으로 계산하면, {exchange}원입니다.') : 이 줄은 계산된 환전 금액을 출력합니다. 여기서는 f-string을 사용하여 문자열 내에 변수의 값을 직접 삽입하였습니다. 이렇게 하면 환전하고 싶은 달러 금액, 달러의 환율, 그리고 계산된 환전 금액을 한 문장으로 출력할 수 있습니다."
      ],
      "metadata": {
        "id": "AlEiYPM1014W"
      }
    },
    {
      "cell_type": "markdown",
      "source": [
        "3. 화씨를 섭씨로 썹씨를 하씨로 변환하는 코드\n",
        "\n",
        " - 화씨를 섭씨로\"F = ℃ * 1.8 + 32\n",
        " - 썹씨를 하씨로 ℃ = (\"F - 32) / 1.8\n",
        " - 변수 : 화씨 fahrenheit, 섭씨 ceisious"
      ],
      "metadata": {
        "id": "AZqkkQxC078k"
      }
    },
    {
      "cell_type": "code",
      "source": [
        "fahrenheit = int(input(\"화씨를 입력히시오.: \"))  # 사용자로부터 화씨 온도를 입력 받습니다. 입력 받은 값을 정수형으로 변환 후 fahrenheit 변수에 저장합니다.\n",
        "ceisious = (fahrenheit - 32)/ 1.8                # 화씨 온도를 섭씨 온도로 변환합니다. 변환 공식은 (화씨온도 - 32) / 1.8 입니다. 계산된 값을 celsius 변수에 저장합니다.\n",
        "print(ceisious)                                  # 계산된 섭씨 온도를 출력합니다."
      ],
      "metadata": {
        "id": "LsUqgEii1FTY"
      },
      "execution_count": null,
      "outputs": []
    },
    {
      "cell_type": "markdown",
      "source": [
        "fahrenheit = int(input(\"화씨를 입력하세요.: \")) : 이 줄은 사용자로부터 화씨 온도를 입력 받습니다. input() 함수는 사용자에게 입력을 받는 함수이며, int() 함수는 입력 받은 값을 정수형으로 변환합니다. 이 변환된 값은 fahrenheit라는 변수에 저장됩니다.\n",
        "celsius = (fahrenheit - 32)/ 1.8 : 이 줄은 입력 받은 화씨 온도를 섭씨 온도로 변환합니다. 화씨에서 섭씨로 변환하는 공식은 (화씨온도 - 32) / 1.8입니다. 이 계산된 값은 celsius라는 변수에 저장됩니다.\n",
        "print(celsius) : 이 줄은 계산된 섭씨 온도를 출력합니다."
      ],
      "metadata": {
        "id": "EJyM_Z1j1mRH"
      }
    },
    {
      "cell_type": "code",
      "source": [
        "ceisious =float(input(\"섭씨를 일력하시오.: \"))   # 사용자로부터 섭씨 온도를 입력 받습니다. 입력 받은 값을 실수형으로 변환 후 celsius 변수에 저장합니다.\n",
        "fahrenheit = ceisious * 1.8 + 32                 # 섭씨 온도를 화씨 온도로 변환합니다. 변환 공식은 (섭씨온도 * 1.8) + 32 입니다. 계산된 값을 fahrenheit 변수에 저장합니다.\n",
        "print(fahrenheit)                                # 계산된 화씨 온도를 출력합니다."
      ],
      "metadata": {
        "id": "EI5gjYCT1r8f"
      },
      "execution_count": null,
      "outputs": []
    },
    {
      "cell_type": "markdown",
      "source": [
        "celsius = float(input(\"섭씨를 입력하세요.: \")) : 이 줄은 사용자로부터 섭씨 온도를 입력 받습니다. input() 함수는 사용자에게 입력을 받는 함수이며, float() 함수는 입력 받은 값을 실수형으로 변환합니다. 이 변환된 값은 celsius라는 변수에 저장됩니다.\n",
        "fahrenheit = celsius * 1.8 + 32 : 이 줄은 입력 받은 섭씨 온도를 화씨 온도로 변환합니다. 섭씨에서 화씨로 변환하는 공식은 (섭씨온도 * 1.8) + 32입니다. 이 계산된 값은 fahrenheit라는 변수에 저장됩니다.\n",
        "print(fahrenheit) : 이 줄은 계산된 화씨 온도를 출력합니다."
      ],
      "metadata": {
        "id": "lHKwUSgm15-A"
      }
    },
    {
      "cell_type": "markdown",
      "source": [
        "4.사용자로부터 2개의 정수를 받아서 합계를 출력하시오.\n",
        "\n",
        " - 정수 x\n",
        " - 정수 y\n"
      ],
      "metadata": {
        "id": "t53qIC_O2GBn"
      }
    },
    {
      "cell_type": "code",
      "source": [
        "print(\"정수 2개를 입력하시오\")             # 사용자에게 두 개의 정수를 입력받을 것을 안내하는 메시지를 출력합니다.\n",
        "x = int(input(\"x의 값을 입력하시오.: \"))   # 첫 번째 정수를 입력받아 정수형으로 변환한 후 x 변수에 저장합니다.\n",
        "y = int(input(\"y의 값을 입력하시오.: \"))   # 두 번째 정수를 입력받아 정수형으로 변환한 후 y 변수에 저장합니다.\n",
        "sum = x + y                                # x와 y의 합을 계산한 후 sum 변수에 저장합니다.\n",
        "print(sum)                                 # 계산된 합계를 출력합니다.\n",
        "print(f'{x} + {y} 의 값은 {sum}이다.')     # x, y, 그리고 그 합계를 한 문장으로 출력합니다. f-string을 사용하여 문자열 내에 변수의 값을 직접 삽입하였습니다."
      ],
      "metadata": {
        "id": "44OyqMFJ2MZc"
      },
      "execution_count": null,
      "outputs": []
    },
    {
      "cell_type": "markdown",
      "source": [
        "print(\"정수 2개를 입력하시오\") : 이 줄은 사용자에게 두 개의 정수를 입력하라는 메시지를 출력합니다.\n",
        "x = int(input(\"x의 값을 입력하시오.: \")) : 이 줄은 사용자로부터 첫 번째 정수를 입력 받습니다. input() 함수는 사용자에게 입력을 받는 함수이며, int() 함수는 입력 받은 값을 정수형으로 변환합니다. 이 변환된 값은 x라는 변수에 저장됩니다.\n",
        "y = int(input(\"y의 값을 입력하시오.: \")) : 이 줄은 사용자로부터 두 번째 정수를 입력 받습니다. 입력 받은 값을 정수형으로 변환 후 y라는 변수에 저장합니다.\n",
        "sum = x + y : 이 줄은 입력 받은 두 정수를 더한 값을 계산합니다. 이 계산된 값은 sum이라는 변수에 저장됩니다.\n",
        "print(sum) : 이 줄은 계산된 합계를 출력합니다.\n",
        "print(f'{x} + {y} 의 값은 {sum}이다.') : 이 줄은 입력 받은 두 정수와 그 합계를 한 문장으로 출력합니다. 여기서는 f-string을 사용하여 문자열 내에 변수의 값을 직접 삽입하였습니다."
      ],
      "metadata": {
        "id": "5S2TLqeA2g0F"
      }
    },
    {
      "cell_type": "markdown",
      "source": [
        "5. 부가세를 계산하시오.\n",
        "\n",
        " - 상품의 가격 price\n",
        " - 부가세 vat"
      ],
      "metadata": {
        "id": "H6__q_HJ2yP6"
      }
    },
    {
      "cell_type": "code",
      "source": [
        "print(\"상품의 가격을 입력하시오.; \")                          # 사용자에게 상품의 가격을 입력받을 것을 안내하는 메시지를 출력합니다.\n",
        "price = int(input(\"상품의 가격\"))                             # 상품의 가격을 입력받아 정수형으로 변환한 후 price 변수에 저장합니다.\n",
        "vat = price * 0.1                                             # price와 0.1을 곱하여 부가세를 계산한 후 vat 변수에 저장합니다. 여기서 0.1은 부가세율을 나타냅니다.\n",
        "print(vat)                                                    # 계산된 부가세를 출력합니다.\n",
        "print(f' 상품의 가격은 {price}이며, 부가세는 {vat}이다.')     # 상품의 가격과 그에 따른 부가세를 한 문장으로 출력합니다. f-string을 사용하여 문자열 내에 변수의 값을 직접 삽입하였습니다."
      ],
      "metadata": {
        "id": "E1-6Ckum24FG"
      },
      "execution_count": null,
      "outputs": []
    },
    {
      "cell_type": "markdown",
      "source": [
        "print(\"상품의 가격을 입력하시오.; \") : 이 부분은 사용자에게 상품 가격을 입력하는 것을 안내하는 메시지를 출력합니다.\n",
        "price = int(input(\"상품의 가격\")) : 이 부분에서는 사용자로부터 상품 가격을 입력받습니다. input() 함수는 사용자로부터 입력을 받는 함수이며, int() 함수는 입력받은 값을 정수형으로 변환합니다.\n",
        "vat = price * 0.1 : 이 부분에서는 입력받은 상품 가격에 0.1(10%)을 곱하여 부가세를 계산합니다. 이 계산된 값은 vat라는 변수에 저장됩니다.\n",
        "print(vat) : 이 부분은 계산된 부가세를 출력합니다.\n",
        "print(f' 상품의 가격은 {price}이며, 부가세는 {vat}이다.') : 이 부분은 상품 가격과 계산된 부가세를 함께 출력합니다. 여기서는 f-string을 사용하여 문자열 내에 변수의 값을 직접 삽입하였습니다."
      ],
      "metadata": {
        "id": "A1CY9aSr3VQb"
      }
    },
    {
      "cell_type": "markdown",
      "source": [
        "6. 쇼핑물의 배송율를 작성하는 코드 작성\n",
        "\n",
        " - 사용자는 변수: price, shipping_cost"
      ],
      "metadata": {
        "id": "B0iXjqBx3dE-"
      }
    },
    {
      "cell_type": "code",
      "source": [
        "print(\"상품의 가격을 입력하시오.\");                        # 사용자에게 상품 가격을 입력하라는 메시지를 출력합니다.\n",
        "price = int(input(\"구입금액을 입력.: \"));                  # 상품 가격을 입력받아 정수형으로 변환한 후 price 변수에 저장합니다.\n",
        "if price > 20000:                                          # price가 20000보다 큰지 확인합니다.\n",
        "  shipping_cost = 0                                        # price가 20000보다 크면, 배송비를 0으로 설정합니다.\n",
        "  print(f'구입금액이 2만원 이상입니다.')                   # 배송비가 없음을 사용자에게 알립니다.\n",
        "else:\n",
        " shipping_cost = 3000                                      # price가 20000보다 작거나 같으면, 배송비를 3000으로 설정합니다.\n",
        " print(f'구입금액이 2만원 이하입니다.')                    # 배송비가 3000원임을 사용자에게 알립니다.\n",
        " print(f'회원님의 배송비는 {shipping_cost}원 입니다.')"
      ],
      "metadata": {
        "id": "-wxUU2IY3yTz"
      },
      "execution_count": null,
      "outputs": []
    },
    {
      "cell_type": "markdown",
      "source": [
        "print(\"상품의 가격을 입력하시오\"); : 이 부분은 사용자에게 상품 가격을 입력하라는 메시지를 출력합니다.\n",
        "price = int(input(\"구입금액을 입력.: \")); : 이 부분에서는 사용자로부터 상품 가격을 입력받습니다. input() 함수는 사용자로부터 입력을 받는 함수이며, int() 함수는 입력받은 값을 정수형으로 변환합니다.\n",
        "if price > 20000: : 이 부분에서는 입력받은 상품 가격이 20000원 이상인지 확인합니다.\n",
        "shipping_cost = 0 : 상품 가격이 20000원 이상인 경우, 배송비를 0으로 설정합니다.\n",
        "print(f'구입금액이 2만원 이상입니다.') : 상품 가격이 20000원 이상인 경우, 사용자에게 이 사실을 알립니다.\n",
        "shipping_cost = 3000 : 상품 가격이 20000원 미만인 경우, 배송비를 3000원으로 설정합니다.\n",
        "print(f'구입금액이 2만원 이하입니다.') : 상품 가격이 20000원 미만인 경우, 사용자에게 이 사실을 알립니다.\n",
        "print(f'회원님의 배송비는 {shipping_cost}원 입니다.') : 상품 가격이 20000원 미만인 경우, 설정된 배송비를 사용자에게 알립니다."
      ],
      "metadata": {
        "id": "aeu7ntCN4Qxj"
      }
    },
    {
      "cell_type": "markdown",
      "source": [
        "7. 학생으로 성적을 입력받아 합격유무를 입력하는 코드\n",
        "\n",
        " - 상용변수: grade"
      ],
      "metadata": {
        "id": "mx96cmn54TMi"
      }
    },
    {
      "cell_type": "code",
      "source": [
        "print(\"성적을 입력하시오.\")                 # 사용자에게 성적을 입력하라는 메시지를 출력합니다.\n",
        "grade = int(input(\"성적입력.: \"))           # 성적을 입력받아 정수형으로 변환한 후 grade 변수에 저장합니다.\n",
        "if grade >= 70:                             # grade가 70 이상인지 확인합니다.\n",
        "  print(f'70점을 이상이므로 합격입니다.')   # grade가 70 이상이면, 합격 메시지를 출력합니다.\n",
        "  print(\"축하합니다, 합격입니다.\")\n",
        "else:\n",
        "  print(f'70점 이하이므로 불합격입니다.')   # grade가 70 미만이면, 불합격 메시지를 출력합니다.\n",
        "  print(\"아쉽군요, 다시한번 도전하시오\")"
      ],
      "metadata": {
        "id": "pTOhC92O4b1m"
      },
      "execution_count": null,
      "outputs": []
    },
    {
      "cell_type": "markdown",
      "source": [
        "print(\"성적을 입력하시오.\") : 이 부분은 사용자에게 성적을 입력하라는 메시지를 출력합니다.\n",
        "grade = int(input(\"성적입력.: \")) : 이 부분에서는 사용자로부터 성적을 입력받습니다. input() 함수는 사용자로부터 입력을 받는 함수이며, int() 함수는 입력받은 값을 정수형으로 변환합니다.\n",
        "if grade >= 70: : 이 부분에서는 입력받은 성적이 70점 이상인지 확인합니다.\n",
        "print(f'70점을 이상이므로 합격입니다.') 및 print(\"축하합니다, 합격입니다.\") : 성적이 70점 이상인 경우, 합격임을 알리는 메시지를 출력합니다.\n",
        "print(f'70점 이하이므로 불합격입니다.') 및 print(\"아쉽군요, 다시한번 도전하시오\") : 성적이 70점 미만인 경우, 불합격임을 알리는 메시지를 출력합니다."
      ],
      "metadata": {
        "id": "FTh6Y-kP4yOR"
      }
    },
    {
      "cell_type": "markdown",
      "source": [
        "8.근무시간에 따라 초과근무와 정상근무를 판별하는 코드\n",
        "\n",
        " - work_hour\n",
        " - 코드 work_hour > 72"
      ],
      "metadata": {
        "id": "moC3-QpL4y0r"
      }
    },
    {
      "cell_type": "code",
      "source": [
        "print(\"근무시간을 입력하시오.\")                # 사용자에게 근무시간을 입력하라는 메시지를 출력합니다.\n",
        "work_hour = int(input(\"근무시간 입력: \"))      # 근무시간을 입력받아 정수형으로 변환한 후 work_hour 변수에 저장합니다.\n",
        "if work_hour >= 72:                            # work_hour가 72 이상인지 확인합니다.\n",
        "  print(\"―\"*9 )                               # work_hour가 72 이상인지 확인합니다.\n",
        "  print(f'|초과근무입니다. |')\n",
        "  print(\"―\"*9 )\n",
        "else:\n",
        "  print(\"#\"*9 )                               # work_hour가 72 미만이면, 정상근무임을 알리는 메시지를 출력합니다.\n",
        "  print(f'정상근무입니다. #')\n",
        "  print(\"#\"*9 )"
      ],
      "metadata": {
        "id": "H22IMRP944MV"
      },
      "execution_count": null,
      "outputs": []
    },
    {
      "cell_type": "markdown",
      "source": [
        "print(\"근무시간을 입력하시오.\") : 이 부분은 사용자에게 근무시간을 입력하라는 메시지를 출력합니다.\n",
        "work_hour = int(input(\"근무시간 입력: \")) : 이 부분에서는 사용자로부터 근무시간을 입력받습니다. input() 함수는 사용자로부터 입력을 받는 함수이며, int() 함수는 입력받은 값을 정수형으로 변환합니다.\n",
        "if work_hour >= 72: : 이 부분에서는 입력받은 근무시간이 72시간 이상인지 확인합니다.\n",
        "print(\"―\"*9 ) , print(f'|초과근무입니다. |') , print(\"―\"*9 ) : 근무시간이 72시간 이상인 경우, 초과근무임을 알리는 메시지를 출력합니다.\n",
        "print(\"#\"*9 ) , print(f'정상근무입니다. #') , print(\"#\"*9 ) : 근무시간이 72시간 미만인 경우, 정상근무임을 알리는 메시지를 출력합니다."
      ],
      "metadata": {
        "id": "DzCrTd3O5Saz"
      }
    },
    {
      "cell_type": "markdown",
      "source": [
        "9. 짝수와 홀수를 판별하는 코드\n",
        "\n",
        " - 상용변수 : num\n",
        " - 수식 : (X%2) !=0:"
      ],
      "metadata": {
        "id": "GBQOxlNs5W2B"
      }
    },
    {
      "cell_type": "code",
      "source": [
        "print(\"정수를 입력하시오.\")\n",
        "_num_ = int(input(\"정수 입력: \"))\n",
        "if (_num_ %2) != 0:\n",
        "  print(f'입력하신 {_num_}은 홀수입니다. ')\n",
        "else:\n",
        "  print(f'입력하신 {_num_}은 짝수입니다. ')"
      ],
      "metadata": {
        "id": "inD28XCd5fIL"
      },
      "execution_count": null,
      "outputs": []
    },
    {
      "cell_type": "markdown",
      "source": [
        "print(\"정수를 입력하시오.\") : 이 부분은 사용자에게 정수를 입력하라는 메시지를 출력합니다.\n",
        "_num_ = int(input(\"정수 입력: \")) : 이 부분에서는 사용자로부터 정수를 입력받습니다. input() 함수는 사용자로부터 입력을 받는 함수이며, int() 함수는 입력받은 값을 정수형으로 변환합니다.\n",
        "if (_num_ %2) != 0: : 이 부분에서는 입력받은 정수를 2로 나눈 나머지가 0이 아닌지, 즉 홀수인지를 판단합니다.\n",
        "print(f'입력하신 {_num_}은 홀수입니다. ') : 정수가 홀수인 경우, 홀수임을 알리는 메시지를 출력합니다.\n",
        "print(f'입력하신 {_num_}은 짝수입니다. ') : 정수가 짝수인 경우, 짝수임을 알리는 메시지를 출력합니다."
      ],
      "metadata": {
        "id": "ahZTpyi15jh9"
      }
    },
    {
      "cell_type": "markdown",
      "source": [
        "10. 사용자의 이름과 나이를 물어보고, 답변하는 코드\n",
        "\n",
        " - 사용변수: name, age\n",
        " - 출력할 내용 :\n",
        " - 설명\n",
        " - 나이 :20\n",
        "-(1) 20이하: 프로그래밍을 배우는 최적의 나이입니다. -(2) 20이상: 아직도 늦지 않았습니다."
      ],
      "metadata": {
        "id": "55BDqC6S6a1J"
      }
    },
    {
      "cell_type": "code",
      "source": [
        "print(\"프로그래밍을 입력하시오.\")                                    # 사용자에게 프로그래밍 입력을 요청하는 메시지를 출력합니다.\n",
        "name = int(input(\"이승민.: \"))                                       # 사용자로부터 이름을 입력받습니다.\n",
        "age = int(input(\"프로그래밍입력.: \"))                                # 사용자로부터 나이를 입력받습니다. 입력받은 나이는 정수형으로 변환합니다.\n",
        "if age >= 20:                                                        # 입력받은 나이를 기준으로 조건문을 수행합니다.\n",
        "  print(f'20살 이하이므로 프로그래밍을 배우는 최적의 나이입니다.')   # 만약 나이가 20살 이하라면, 프로그래밍을 배우기에 적합한 나이라는 메시지를 출력합니다.\n",
        "  print(\"축하합니다, 얼른 시작하세요.\")\n",
        "else:\n",
        "  print(f'20살 이상이므로 아직도 늦지 않았습니다.')                  # 만약 나이가 20살 초과라면, 아직 프로그래밍을 배우기에 늦지 않았다는 메시지를 출력합니다.\n",
        "  print(\"빨리 시작하세요. \")"
      ],
      "metadata": {
        "colab": {
          "base_uri": "https://localhost:8080/"
        },
        "id": "J8l8EZrK6tyD",
        "outputId": "54eb56eb-b739-4d84-9570-9ce7e83b4198"
      },
      "execution_count": 12,
      "outputs": [
        {
          "output_type": "stream",
          "name": "stdout",
          "text": [
            "프로그래밍을 입력하시오.\n",
            "이승민.: 20\n",
            "프로그래밍입력.: 1\n",
            "20살 이상이므로 아직도 늦지 않았습니다.\n",
            "빨리 시작하세요. \n"
          ]
        }
      ]
    },
    {
      "cell_type": "markdown",
      "source": [
        "print(\"프로그래밍을 입력하시오.\") : 이 부분은 화면에 \"프로그래밍을 입력하시오.\"라는 문구를 출력합니다. 하지만 이 문구는 프로그래밍을 입력받는 것이 아니라, 사용자에게 프로그래밍 학습을 시작하라는 메시지를 주는 것으로 보입니다.\n",
        "name = input(\"이름 입력.: \") : 이 부분에서는 사용자로부터 이름을 입력받습니다. input()은 사용자로부터 입력을 받는 함수입니다.\n",
        "age = int(input(\"나이 입력.: \")) : 이 부분에서는 사용자로부터 나이를 입력받습니다. input() 함수는 사용자로부터 입력을 받는 함수이며, int() 함수는 입력받은 값을 정수형으로 변환합니다.\n",
        "if age <= 20: : 이 부분에서는 입력받은 나이가 20살 이하인지 판단합니다.\n",
        "print(f'뤼튼님은 20살 이하이므로 프로그래밍을 배우는 최적의 나이입니다.') , print(\"축하합니다, 얼른 시작하세요.\") : 나이가 20살 이하인 경우, 프로그래밍 학습을 시작하기 좋은 나이라는 메시지와 함께 축하 메시지를 출력합니다.\n",
        "print(f'뤼튼님은 20살 이상이지만 아직도 늦지 않았습니다.') , print(\"빨리 시작하세요. \") : 나이가 20살 초과인 경우, 아직 프로그래밍 학습을 시작하기에 늦지 않았다는 메시지를 출력합니다."
      ],
      "metadata": {
        "id": "8Sa92z4w6y6D"
      }
    },
    {
      "cell_type": "markdown",
      "source": [
        "11. 두가지 이상의 선택, 다방향 선택 구조 코딩\n",
        "\n",
        " - 배송료 처리 3가지로 코딩\n",
        " - 변수: price\n",
        " - 조건: 10만원 이상 배송비 0, 2만원 이상은 3천원, 2만원 이하는 5천원\n"
      ],
      "metadata": {
        "id": "XhuFm8xc7liM"
      }
    },
    {
      "cell_type": "code",
      "source": [
        "price = int(input(\"구입금액 입력: \"))         # 변수 price 사용자가 정수형 금액입력\n",
        "if price >= 100000:                           # price의 값이 10만원보다 크거나 같으면\n",
        "  shipping_cost = 0                           # 선택1. 배송료(shipping_cost)는 0원\n",
        "else:                                         # 그게 아니면\n",
        "  if price >= 20000:                          # 선택2. price값이 2만원보다 크거나 같으면\n",
        "    shipping_cost = 3000                      # 배송료(shipping_cost)는 3000원\n",
        "  else:                                       # 그것도 아니면\n",
        "    shipping_cost = 5000                      # 선택3. 배송료(shipping_cost)는 5000원\n",
        "print(f'배송료는 {shipping_cost}원 입니다.')  # F-String문자 Format으로 최종 배송료출력"
      ],
      "metadata": {
        "id": "4AzM_ANn716F"
      },
      "execution_count": null,
      "outputs": []
    },
    {
      "cell_type": "markdown",
      "source": [
        "price = int(input(\"구입금액 입력: \")) : 이 부분에서는 사용자로부터 구입 금액을 입력받습니다. input() 함수는 사용자로부터 입력을 받는 함수이며, int() 함수는 입력받은 값을 정수형으로 변환합니다.\n",
        "if price >= 100000: : 이 부분에서는 입력받은 구입 금액이 10만 원 이상인지를 판단합니다.\n",
        "shipping_cost = 0 : 구입 금액이 10만 원 이상인 경우, 배송료는 0원입니다.\n",
        "elif price >= 20000: : 구입 금액이 10만 원 미만이지만 2만 원 이상인 경우를 판단하는 부분입니다.\n",
        "shipping_cost = 3000 : 구입 금액이 2만 원 이상인 경우, 배송료는 3000원입니다.\n",
        "else: : 구입 금액이 2만 원 미만인 경우를 나타냅니다.\n",
        "shipping_cost = 5000 : 구입 금액이 2만 원 미만인 경우, 배송료는 5000원입니다.\n",
        "print(f'배송료는 {shipping_cost}원 입니다.') : 최종적으로 계산된 배송료를 출력합니다."
      ],
      "metadata": {
        "id": "yw5T66Dd7_lP"
      }
    },
    {
      "cell_type": "markdown",
      "source": [
        "12. 반복구조를 이용한 \"환영합니다.\"를 5번 출력하는 코드작성\n",
        "\n",
        " - 변수 : Welcome\n",
        " - 출력내용 : 환영합니다.를 세로로 5번, 10번, 30번"
      ],
      "metadata": {
        "id": "jMVK6gle7_2c"
      }
    },
    {
      "cell_type": "code",
      "source": [
        "print(\"환영합니다\")  # 화면에 \"환영합니다\"라는 문구를 출력합니다.\n",
        "print(\"환영합니다\")  # 화면에 \"환영합니다\"라는 문구를 출력합니다.\n",
        "print(\"환영합니다\")  # 화면에 \"환영합니다\"라는 문구를 출력합니다.\n",
        "print(\"환영합니다\")  # 화면에 \"환영합니다\"라는 문구를 출력합니다.\n",
        "print(\"환영합니다\")  # 화면에 \"환영합니다\"라는 문구를 출력합니다."
      ],
      "metadata": {
        "id": "aplNcmFv8GyB"
      },
      "execution_count": null,
      "outputs": []
    },
    {
      "cell_type": "markdown",
      "source": [
        "print(\"환영합니다\") : 이 부분에서는 화면에 \"환영합니다\"라는 문구를 출력합니다. 이 코드가 총 5번 반복되어 있으므로, \"환영합니다\"라는 문구가 총 5번 출력됩니다."
      ],
      "metadata": {
        "id": "myFHyOYg8ahE"
      }
    },
    {
      "cell_type": "code",
      "source": [
        "print(\"환영합니다.\\n\" * 5)   # \"환영합니다.\\n\"이라는 문자열을 5번 반복하여 출력합니다, 여기서 \\n은 줄바꿈(newline)을 의미하므로, \"환영합니다.\"라는 문구가 5번 줄바꿈을 하면서 출력됩니다."
      ],
      "metadata": {
        "id": "4kpNa_Ay8ofy"
      },
      "execution_count": null,
      "outputs": []
    },
    {
      "cell_type": "markdown",
      "source": [
        "print(\"환영합니다.\\n\" * 5) : 이 부분에서는 \"환영합니다.\\n\"이라는 문자열을 5번 반복하여 출력합니다. 여기서 \\n은 줄바꿈(newline)을 의미하므로, \"환영합니다.\"라는 문구가 5번 줄바꿈을 하면서 출력됩니다."
      ],
      "metadata": {
        "id": "sqHsmCwf8sb6"
      }
    },
    {
      "cell_type": "code",
      "source": [
        "count = 1                                    # count라는 변수에 1을 할당합니다. 이 변수는 반복 횟수를 세는데 사용됩니다.\n",
        "while count <= 5:                            # while문을 사용하여 count의 값이 5 이하일 동안 반복합니다.\n",
        "  print(\"(\", count, \")\", \"환영합니다.\")      # 화면에 \"환영합니다.\"라는 문구와 그 앞에 count값을 출력합니다, 이 때 count값은 괄호로 묶여져 있습니다.\n",
        "  count = count + 1                          # count의 값을 1 증가시킵니다. 이 부분이 없으면 무한 루프에 빠질 수 있습니다."
      ],
      "metadata": {
        "id": "mD2SylB58s_N"
      },
      "execution_count": null,
      "outputs": []
    },
    {
      "cell_type": "markdown",
      "source": [
        "첫 번째 줄에서는 count라는 변수를 선언하고, 이 변수에 1이라는 값을 할당합니다. 이 count 변수는 이후의 반복문에서 사용됩니다.\n",
        "두 번째 줄에서는 while count <= 5:라는 조건을 통해 count의 값이 5 이하일 때까지 반복문을 실행하도록 지정합니다.\n",
        "세 번째 줄에서는 print(\"(\", count, \")\", \"환영합니다.\") 코드를 통해 화면에 count의 현재 값과 \"환영합니다.\"라는 문구를 출력합니다. 이 때 count의 값은 괄호 안에 출력됩니다.\n",
        "네 번째 줄에서는 count = count + 1 코드를 통해 count의 값을 1 증가시키는 작업을 수행합니다. 이 작업을 통해 count의 값이 5를 초과하게 되면 while문의 조건이 만족되지 않아 반복문이 종료되게 됩니다."
      ],
      "metadata": {
        "id": "hzhVXLCE9E2A"
      }
    },
    {
      "cell_type": "markdown",
      "source": [
        "13. 0부터 9까지 출력하는 코드작성\n",
        "\n",
        " - 변수 X"
      ],
      "metadata": {
        "id": "L9UIx_9X9FCc"
      }
    },
    {
      "cell_type": "code",
      "source": [
        "x = 0                   # x라는 변수에 0을 할당합니다. 이 변수는 반복 횟수를 세는데 사용됩니다.\n",
        "while x < 10:           # while문을 사용하여 x의 값이 10 미만일 동안 반복합니다.\n",
        "  #print(x)\n",
        "  print(x, end=' ')     # 화면에 x의 값을 출력하고, 끝에 공백(' ')을 추가합니다, 이렇게 하면 x의 값을 출력한 후 줄바꿈 대신 공백이 출력됩니다.\n",
        "  x = x + 1             # x의 값을 1 증가시킵니다. 이 부분이 없으면 무한 루프에 빠질 수 있습니다."
      ],
      "metadata": {
        "id": "0Mat2Qgj9i0f"
      },
      "execution_count": null,
      "outputs": []
    },
    {
      "cell_type": "markdown",
      "source": [
        "첫 번째 줄에서는 x라는 변수를 선언하고, 이 변수에 0이라는 값을 할당합니다. 이 x 변수는 이후의 반복문에서 사용됩니다.\n",
        "두 번째 줄에서는 while x < 10:라는 조건을 통해 x의 값이 10 미만일 때까지 반복문을 실행하도록 지정합니다.\n",
        "네 번째 줄에서는 print(x, end=' ') 코드를 통해 화면에 x의 현재 값을 출력하고, 끝에 공백(' ')을 추가합니다. end=' '는 print 함수가 기본적으로 실행하는 줄바꿈 대신 공백을 출력하도록 하는 옵션입니다.\n",
        "다섯 번째 줄에서는 x = x + 1 코드를 통해 x의 값을 1 증가시키는 작업을 수행합니다. 이 작업을 통해 x의 값이 10을 초과하게 되면 while문의 조건이 만족되지 않아 반복문이 종료되게 됩니다."
      ],
      "metadata": {
        "id": "NJayPl7s9nVT"
      }
    },
    {
      "cell_type": "code",
      "source": [
        "x = 0                  # x라는 변수에 0을 할당합니다. 이 변수는 반복 횟수를 세는데 사용됩니다.\n",
        "while x <= 9:          # while문을 사용하여 x의 값이 9 이하일 동안 반복합니다.\n",
        "  print(x, end=' ')    # 화면에 x의 값을 출력하고, 끝에 공백(' ')을 추가합니다, 이렇게 하면 x의 값을 출력한 후 줄바꿈 대신 공백이 출력됩니다.\n",
        "  x += 1               # x의 값을 1 증가시킵니다. 이 부분이 없으면 무한 루프에 빠질 수 있습니다, 여기서는 += 연산자를 사용하여 x = x + 1을 간단히 표현하였습니다."
      ],
      "metadata": {
        "id": "F_rOh27n96LM"
      },
      "execution_count": null,
      "outputs": []
    },
    {
      "cell_type": "markdown",
      "source": [
        "첫 번째 줄에서는 x라는 변수를 선언하고, 이 변수에 0이라는 값을 할당합니다. 이 x 변수는 이후의 반복문에서 사용됩니다.\n",
        "두 번째 줄에서는 while x <= 9:라는 조건을 통해 x의 값이 9 이하일 때까지 반복문을 실행하도록 지정합니다.\n",
        "세 번째 줄에서는 print(x, end=' ') 코드를 통해 화면에 x의 현재 값을 출력하고, 끝에 공백(' ')을 추가합니다. end=' '는 print 함수가 기본적으로 실행하는 줄바꿈 대신 공백을 출력하도록 하는 옵션입니다.\n",
        "네 번째 줄에서는 x += 1 코드를 통해 x의 값을 1 증가시키는 작업을 수행합니다. += 연산자는 변수의 값을 증가시키는 연산을 간단하게 나타내는 방법입니다. 따라서 x += 1은 x = x + 1과 같은 의미입니다. 이 작업을 통해 x의 값이 10을 초과하게 되면 while문의 조건이 만족되지 않아 반복문이 종료되게 됩니다."
      ],
      "metadata": {
        "id": "KMTiPwy4-e0I"
      }
    },
    {
      "cell_type": "markdown",
      "source": [
        "14. 1부터 10까지 합산하는 코드작성"
      ],
      "metadata": {
        "id": "VXILOD9l99nv"
      }
    },
    {
      "cell_type": "code",
      "source": [
        "x = 1                 # x라는 변수에 1을 할당합니다. 이 변수는 반복 횟수를 세는데 사용됩니다.\n",
        "total = 0             # total이라는 변수에 0을 할당합니다. 이 변수는 1부터 10까지의 합을 저장하는데 사용됩니다.\n",
        "while x <= 10:        # while문을 사용하여 x의 값이 10 이하일 동안 반복합니다.\n",
        "  total += x          # while문을 사용하여 x의 값이 10 이하일 동안 반복합니다, 여기서는 += 연산자를 사용하여 total = total + x를 간단히 표현하였습니다.\n",
        "  #total = total + 1\n",
        "  #x = x + 1\n",
        "  x += 1              # x의 값을 1 증가시킵니다. 이 부분이 없으면 무한 루프에 빠질 수 있습니다, 여기서는 += 연산자를 사용하여 x = x + 1을 간단히 표현하였습니다.\n",
        "print(total)          # 반복문이 끝난 후 total의 값을 출력합니다. 이 값은 1부터 10까지의 합인 55가 됩니다."
      ],
      "metadata": {
        "id": "mSm-JlqG-dFH"
      },
      "execution_count": null,
      "outputs": []
    },
    {
      "cell_type": "markdown",
      "source": [
        "x라는 변수를 선언하고, 이 변수에 1이라는 값을 할당하였습니다. 이 x 변수는 반복문에서 사용되며, 반복문이 한 번 실행될 때마다 1씩 증가합니다.\n",
        "total이라는 변수를 선언하고, 이 변수에 0이라는 값을 할당하였습니다. 이 total 변수는 반복문을 통해 1부터 10까지의 자연수를 더한 결과를 저장합니다.\n",
        "while x <= 10:이라는 조건을 통해 x의 값이 10 이하일 동안 반복문을 실행하도록 지정하였습니다.\n",
        "total += x라는 코드를 통해 total에 x의 값을 더하고, 그 결과를 다시 total에 할당합니다.\n",
        "x += 1은 x의 값을 1 증가시키는 코드입니다. 이 코드를 통해 x의 값이 11이 되면 while문의 조건이 만족되지 않아 반복문이 종료되게 됩니다.\n",
        "마지막으로 print(total)을 통해 total의 값을 출력합니다. 이 값은 1부터 10까지의 자연수를 모두 더한 55가 됩니다."
      ],
      "metadata": {
        "id": "G0x_w7b--npr"
      }
    },
    {
      "cell_type": "code",
      "source": [
        "x = 1                 # x라는 변수를 선언하고, 이 변수에 1이라는 값을 할당합니다.\n",
        "while x <= 10:        # x의 값이 10 이하일 동안 아래의 코드를 반복 실행합니다.\n",
        "  print(x, end=' ')   # 현재 x의 값을 출력하고, 그 뒤에 공백을 추가합니다. 이렇게 하면 숫자들이 한 줄에 출력됩니다.\n",
        "  x += 1              # x의 값을 1 증가시킵니다. 이렇게 하면, 다음 반복에서는 x가 1 증가한 값을 가지게 됩니다."
      ],
      "metadata": {
        "colab": {
          "base_uri": "https://localhost:8080/"
        },
        "id": "BsNCjShr_V7I",
        "outputId": "c2e9d935-3ad4-4bb2-968c-3e2a7e937849"
      },
      "execution_count": 3,
      "outputs": [
        {
          "output_type": "stream",
          "name": "stdout",
          "text": [
            "1 2 3 4 5 6 7 8 9 10 "
          ]
        }
      ]
    },
    {
      "cell_type": "markdown",
      "source": [
        "x = 1로 시작하여, x라는 변수에 1이라는 값을 할당합니다.\n",
        "while x <= 10:이라는 조건을 통해 x의 값이 10 이하일 동안에는 아래의 코드를 반복해서 실행하도록 지정합니다.\n",
        "print(x, end=' ')라는 코드를 통해 현재 x의 값을 화면에 출력하며, 출력 후에는 줄바꿈(\\n) 대신 공백( )을 출력하도록 합니다.\n",
        "x += 1이라는 코드를 통해 x의 값을 1 증가시킵니다. 이렇게 하면 다음 반복에서는 x의 값이 1 증가한 값으로 코드가 실행됩니다."
      ],
      "metadata": {
        "id": "Kr9t9M-pARRq"
      }
    },
    {
      "cell_type": "markdown",
      "source": [
        "15.\n",
        "               3-6-9 게임(3의 배수 판단): 3의 배수를 3으로 나누면 나머지가 0이 되므로(imod3)"
      ],
      "metadata": {
        "id": "zhOh_YS0AjAt"
      }
    },
    {
      "cell_type": "code",
      "source": [
        "for num in range(1, 21):      # for문을 사용하여 1부터 20까지의 숫자(num)를 반복합니다.\n",
        "  if num % 3 == 0:            # if문을 사용하여 num이 3의 배수인지 확인합니다. 이는 num을 3으로 나눈 나머지가 0인지를 검사하여 판단합니다.\n",
        "    print(\"박수\", end=' ')    # num이 3의 배수일 경우에는 \"박수\"를 출력합니다. 출력 후에는 줄바꿈 대신 공백을 출력합니다.\n",
        "  else:\n",
        "    print(num, end=' ')       # num이 3의 배수가 아닐 경우에는 num을 출력합니다. 출력 후에는 줄바꿈 대신 공백을 출력합니다."
      ],
      "metadata": {
        "id": "oqQUuSxXApUX"
      },
      "execution_count": null,
      "outputs": []
    },
    {
      "cell_type": "markdown",
      "source": [
        "for num in range(1, 21): 이 부분은 1부터 20까지의 숫자를 순회하는 for문입니다. range(1, 21)은 1부터 20까지의 연속된 정수를 생성합니다.\n",
        "if num % 3 == 0: 이 부분은 각 숫자(num)가 3의 배수인지를 판별하는 조건문입니다. %는 나머지를 반환하는 연산자이므로, num % 3는 num을 3으로 나눈 나머지를 반환합니다. 따라서 num % 3 == 0은 num이 3의 배수임을 의미합니다.\n",
        "print(\"박수\", end=' ')는 num이 3의 배수일 때 실행되는 코드입니다. \"박수\"를 출력하고, 줄바꿈 대신 공백을 출력합니다.\n",
        "else:는 num이 3의 배수가 아닐 때 실행되는 부분입니다. 이 경우 print(num, end=' ')가 실행되어 해당 숫자를 출력하고, 줄바꿈 대신 공백을 출력합니다."
      ],
      "metadata": {
        "id": "e1ZSynZwAv1j"
      }
    },
    {
      "cell_type": "code",
      "source": [
        "num = 1                     # num이라는 변수를 선언하고, 이 변수에 1이라는 값을 할당합니다.\n",
        "while num <= 20:            # num의 값이 20 이하일 동안 아래의 코드를 반복 실행합니다.\n",
        "  if num % 3 == 0:          # num의 값이 20 이하일 동안 아래의 코드를 반복 실행합니다.\n",
        "    print(\"박수\", end=' ')  # num이 3의 배수일 경우에는 \"박수\"를 출력합니다. 출력 후에는 줄바꿈 대신 공백을 출력합니다.\n",
        "  else:\n",
        "    print(num, end=' ')     # num이 3의 배수가 아닐 경우에는 num을 출력합니다. 출력 후에는 줄바꿈 대신 공백을 출력합니다.\n",
        "  num += 1                  # num의 값을 1 증가시킵니다. 이렇게 하면, 다음 반복에서는 num이 1 증가한 값을 가지게 됩니다."
      ],
      "metadata": {
        "id": "scJOmdsqBoeS"
      },
      "execution_count": null,
      "outputs": []
    },
    {
      "cell_type": "markdown",
      "source": [
        "num = 1: num이라는 변수를 선언하고, 이 변수에 1이라는 값을 할당합니다.\n",
        "while num <= 20:: num의 값이 20 이하일 동안 아래의 코드를 반복 실행합니다.\n",
        "if num % 3 == 0:: num을 3으로 나눈 나머지가 0인지 확인합니다. 이 조건이 참이면, 즉 num이 3의 배수이면 아래의 코드를 실행합니다.\n",
        "print(\"박수\", end=' '): \"박수\"라는 문자열을 출력하고, 그 뒤에 공백을 추가합니다. 이렇게 하면 \"박수\" 문자열들이 한 줄에 출력됩니다.\n",
        "else:: num이 3의 배수가 아닐 경우 아래의 코드를 실행합니다.\n",
        "print(num, end=' '): num의 값을 출력하고, 그 뒤에 공백을 추가합니다. 이렇게 하면 숫자들이 한 줄에 출력됩니다.\n",
        "num += 1: num의 값을 1 증가시킵니다. 이렇게 하면, 다음 반복에서는 num이 1 증가한 값을 가지게 됩니다."
      ],
      "metadata": {
        "id": "4wubWJ7sBteO"
      }
    },
    {
      "cell_type": "markdown",
      "source": [
        "16. 팩토리를 계산하는 코드 작성\n",
        "- 1! = 1,2!= 2(1)3!=(2)(1)=6"
      ],
      "metadata": {
        "id": "nxH0PLA2CR4d"
      }
    },
    {
      "cell_type": "code",
      "source": [
        " = 5                   # i라는 변수를 선언하고, 이 변수에 5라는 값을 할당합니다. 이후 이 변수를 사용하여 팩토리얼을 계산합니다.\n",
        "factorial = 1          # 팩토리얼 값을 저장할 변수를 선언하고, 이 변수에 1이라는 값을 할당합니다. 팩토리얼 계산을 시작할 때 이 변수의 값은 항상 1이어야 합니다.\n",
        "while i >= 1:          # i의 값이 1 이상일 동안 아래의 코드를 반복 실행합니다.\n",
        "    factorial *= i     # factorial에 i를 곱한 값을 다시 factorial에 할당합니다. 이렇게 하면, factorial은 계속해서 i를 곱한 값을 가지게 됩니다.\n",
        "    i -= 1             # i의 값을 1 감소시킵니다. 이렇게 하면, 다음 반복에서는 i가 1 감소한 값을 가지게 됩니다.\n",
        "print(factorial)       # 팩토리얼 계산이 끝나면, 결과값인 factorial을 출력합니다."
      ],
      "metadata": {
        "id": "kS-R8-DdCnaK"
      },
      "execution_count": null,
      "outputs": []
    },
    {
      "cell_type": "markdown",
      "source": [
        "i = 5: i라는 변수를 선언하고, 이 변수에 5라는 값을 할당합니다. 이 i는 팩토리얼을 계산할 숫자입니다.\n",
        "factorial = 1: factorial이라는 변수를 선언하고, 이 변수에 1이라는 값을 할당합니다. 이 factorial은 팩토리얼의 결과를 저장하기 위한 변수입니다. 팩토리얼 계산을 시작할 때 이 변수의 값은 항상 1이어야 합니다.\n",
        "while i >= 1:: i의 값이 1 이상일 동안 아래의 코드를 반복 실행합니다.\n",
        "factorial *= i: factorial에 i를 곱한 값을 다시 factorial에 할당합니다. 이렇게 하면, factorial은 계속해서 i를 곱한 값을 가지게 됩니다.\n",
        "i -= 1: i의 값을 1 감소시킵니다. 이렇게 하면, 다음 반복에서는 i가 1 감소한 값을 가지게 됩니다.\n",
        "print(factorial): 팩토리얼 계산이 끝나면, 결과값인 factorial을 출력합니다."
      ],
      "metadata": {
        "id": "HHNhaFwCCrok"
      }
    },
    {
      "cell_type": "code",
      "source": [
        "num = int(input(\"팩토리얼를 계산할 숫자를 입략하시오.: \"))   # 계산할 숫자를 입력합니다\n",
        "factorial = 1                                                # 초기값으로 1을 설정합니다\n",
        "while  num >= 1:                                             # 팩토리얼 계산을 위한 빈복문인 while 입니다,  num값이 1보다 크거나 같을 때 하위 문장(코드)를 진행\n",
        "    factorial = factorial * num                              # 현재 num값을 factorial값에 곱해줍니다\n",
        "    num -= 1                                                 # num값을 1씩 감소시킵니다\n",
        "print(f'계산 팩터리의 값은 {factorial} 입니다.')             # 팩토리얼 계산이 끝나면, 결과값인 factorial을 출력합니다."
      ],
      "metadata": {
        "id": "G-cLVSHID5SL"
      },
      "execution_count": null,
      "outputs": []
    },
    {
      "cell_type": "markdown",
      "source": [
        "num = int(input(\"팩토리얼를 계산할 숫자를 입략하시오.: \")): 사용자로부터 팩토리얼을 계산할 숫자를 입력받습니다. input() 함수는 사용자의 입력을 문자열 형태로 받고, int() 함수를 사용하여 이를 정수형으로 변환합니다.\n",
        "factorial = 1: 팩토리얼 값을 저장할 변수 factorial을 1로 초기화합니다.\n",
        "while num >= 1:: num의 값이 1 이상인 동안 아래의 두 줄의 코드를 실행합니다.\n",
        "factorial = factorial * num: factorial 변수에 num을 곱한 값을 다시 factorial에 저장합니다. 이 작업을 통해 factorial 변수는 지속적으로 num을 곱한 값을 가지게 됩니다.\n",
        "num -= 1: num의 값을 1 감소시킵니다. 이렇게 함으로써, 다음 반복에서는 num이 1 감소한 값을 가지게 됩니다.\n",
        "print(f'계산 팩터리의 값은 {factorial} 입니다.'): 계산이 완료되면, 팩토리얼의 결과값인 factorial을 출력합니다."
      ],
      "metadata": {
        "id": "RIbsvp7QEysG"
      }
    },
    {
      "cell_type": "markdown",
      "source": [
        "17. 구구단 출력해주는 코드 작성\n",
        "\n",
        " - 변수: dan\n",
        " - 반복문(1):for\n",
        " - 반복분(2): while"
      ],
      "metadata": {
        "id": "PhfX52f5FCia"
      }
    },
    {
      "cell_type": "code",
      "source": [
        "# for문 상용\n",
        "dan = int(input(\"구구단에서 몇단을 출력할까요: \"))   # 구구단을 출력할 단수를 사용자로부터 입력받습니다, input() 함수는 사용자의 입력을 문자열 형태로 받고, int() 함수를 사용하여 이를 정수형으로 변환합니다.\n",
        "for i in range(1,10):                                # 1부터 9까지의 숫자에 대해 반복합니다.\n",
        "      print(dan, \"x\", i, \"=\", dan * i)               # dan과 i 그리고 dan과 i의 곱을 출력합니다, 문자열과 숫자를 함께 출력하기 위해 \",\"를 사용하여 구분합니다."
      ],
      "metadata": {
        "colab": {
          "base_uri": "https://localhost:8080/"
        },
        "id": "NS2TgqHsFL2f",
        "outputId": "9d15511c-10ac-4c3d-9496-cc9ca78c719e"
      },
      "execution_count": 8,
      "outputs": [
        {
          "output_type": "stream",
          "name": "stdout",
          "text": [
            "구구단에서 몇단을 출력할까요: 0\n",
            "0 x 1 = 0\n",
            "0 x 2 = 0\n",
            "0 x 3 = 0\n",
            "0 x 4 = 0\n",
            "0 x 5 = 0\n",
            "0 x 6 = 0\n",
            "0 x 7 = 0\n",
            "0 x 8 = 0\n",
            "0 x 9 = 0\n"
          ]
        }
      ]
    },
    {
      "cell_type": "markdown",
      "source": [
        "dan = int(input(\"구구단에서 몇단을 출력할까요: \")): 사용자로부터 구구단을 출력할 숫자를 입력받습니다. input() 함수는 사용자의 입력을 문자열 형태로 받고, int() 함수를 사용하여 이를 정수형으로 변환합니다.\n",
        "for i in range(1,9):: 1부터 8까지의 숫자에 대해 아래의 코드를 실행합니다. 여기서 range(1, 9)는 1부터 8까지의 숫자를 생성하는 함수입니다.\n",
        "print(dan, \"x\", i, \"=\", dan * i): dan과 i 그리고 dan과 1의 곱을 출력합니다."
      ],
      "metadata": {
        "id": "O0mdDt4nFSIM"
      }
    },
    {
      "cell_type": "code",
      "source": [
        "# while문 사용\n",
        "dan = int(input(\"구구단을 몇단을 출력할래?: \"))  # 구구단을 출력할 단수를 사용자로부터 입력받습니다.\n",
        "i = 1                                            # 구구단을 출력할 시작 숫자를 1로 설정합니다.\n",
        "while i <= 9:                                    # i의 값이 9 이하인 동안 아래의 코드를 반복 실행합니다.\n",
        "    print(dan, \"x\", i, \"=\", dan * i)             # dan과 i 그리고 dan과 i의 곱을 출력합니다, 문자열과 숫자를 함께 출력하기 위해 \",\"를 사용하여 구분합니다.\n",
        "    i += 1                                       # i의 값을 1 증가시킵니다. 이렇게 하면, 다음 반복에서는 i가 1 증가한 값을 가지게 됩니다."
      ],
      "metadata": {
        "id": "cJwON262Fpnd"
      },
      "execution_count": null,
      "outputs": []
    },
    {
      "cell_type": "markdown",
      "source": [
        "dan = int(input(\"구구단을 몇단을 출력할래?: \")): 사용자로부터 출력할 구구단의 단수를 입력받습니다. input() 함수는 사용자의 입력을 문자열 형태로 받고, int() 함수를 사용하여 이를 정수형으로 변환합니다.\n",
        "i = 1: 반복문에서 사용할 변수 i를 1로 초기화합니다.\n",
        "while i <= 9:: i의 값이 9 이하일 동안 아래의 코드를 반복 실행합니다.\n",
        "print(dan, \"x\", i, \"=\", dan * i): dan과 i 그리고 dan과 i의 곱을 출력합니다.\n",
        "i += 1: i의 값을 1 증가시킵니다. 이렇게 함으로써, 다음 반복에서는 i가 1 증가한 값을 가지게 됩니다."
      ],
      "metadata": {
        "id": "-dld182lFt9q"
      }
    }
  ]
}